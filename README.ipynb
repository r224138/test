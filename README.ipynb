{
 "cells": [
  {
   "cell_type": "markdown",
   "id": "79f47e00-64bd-408c-a68f-56c7dd77e4c4",
   "metadata": {},
   "source": [
    "# Experimento 1: Materiais Condutores e Isolantes"
   ]
  },
  {
   "cell_type": "markdown",
   "id": "c0067a27-57ce-43fe-9ff9-b4b77d7e0a18",
   "metadata": {},
   "source": [
    "`PREENCHER` NOME E RA DOS MEMBROS DO GRUPO"
   ]
  },
  {
   "cell_type": "code",
   "execution_count": null,
   "id": "36ef7508-405b-4587-bf63-ba958cad6ad0",
   "metadata": {},
   "outputs": [],
   "source": [
    "# Bibliotecas auxiliares\n",
    "\n",
    "import numpy\n",
    "from matplotlib import pyplot"
   ]
  },
  {
   "cell_type": "markdown",
   "id": "af101758-83b7-4ac6-a4ee-4b88bd57266b",
   "metadata": {
    "tags": []
   },
   "source": [
    "## Medidas de CapacitÃ¢ncia"
   ]
  },
  {
   "cell_type": "markdown",
   "id": "f901fbdb-0eb9-480e-aba8-63abfef84293",
   "metadata": {
    "tags": []
   },
   "source": [
    "### Modelo\n",
    "\n",
    "No modelo de capacitor plano de placas paralelas o valor da capacitÃ¢ncia Ã© dado (no sistema internacional) pela expressÃ£o:\n",
    "\n",
    "\\begin{equation}\n",
    "C = \\frac{\\epsilon_0\\epsilon_r A}{d}\n",
    "\\end{equation}\n",
    "\n",
    "em que $\\epsilon_0$ Ã© a permissividade elÃ©trica do vÃ¡cuo (8.854187Ã—10â»Â¹Â² F/m), $\\epsilon_r$ Ã© permissividade relativa ou constante dielÃ©trica do material (adimensional, algumas vezes denotada tambÃ©m por $k$), $A$ Ã© a Ã¡rea das placas condutoras e $d$ a distÃ¢ncia entre elas.\n",
    "\n",
    "O fator de dissipaÃ§Ã£o para o modelo em sÃ©rie Ã© dado pela expressÃ£o:\n",
    "\n",
    "\\begin{equation}\n",
    "D = \\frac{1}{Q} = \\omega RC\n",
    "\\end{equation}\n",
    "\n",
    "em que $Q$ Ã© o fator de qualidade do capacitor, $R$ Ã© a resistÃªncia sÃ©rie equivalente e $C$ Ã© a capacitÃ¢ncia medida na frequÃªncia angular $\\omega$.\n"
   ]
  },
  {
   "cell_type": "markdown",
   "id": "8471aeb8-4d68-46e7-8e07-0b3a27e5e692",
   "metadata": {},
   "source": [
    "### Ambiente Experimental\n",
    "\n",
    "Utilizando as 2 placas de madeira, as 2 placas condutoras e uma folha de material dielÃ©trico, arranjÃ¡-las como mostrado na figura a seguir, tomando o cuidado de opor diagonalmente os cantos biselados das placas condutoras.  Ligar a ponte de impedÃ¢ncia aos fios conectados Ã s placas condutoras.  O procedimento para a medida de capacitÃ¢ncias estÃ¡ descrito no manual da ponte de impedÃ¢ncia."
   ]
  },
  {
   "cell_type": "markdown",
   "id": "f572563f-3222-4b13-a9ce-0585dfcf345c",
   "metadata": {},
   "source": [
    "<p><img class=\"align-center\" alt=\"Montagem das folhas de dielÃ©trico para as medidas de capacitÃ¢ncia\" src=\"data:image/png;base64, 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\" /></p>"
   ]
  },
  {
   "cell_type": "markdown",
   "id": "209e7b6f-a9e6-45ab-b2bb-ba35d8e7b6dc",
   "metadata": {
    "tags": []
   },
   "source": [
    "### Roteiro e AnÃ¡lise\n",
    "\n",
    "MeÃ§a a capacitÃ¢ncia e o fator de dissipaÃ§Ã£o das montagens feitas com as folhas de material dielÃ©trico disponÃ­veis no laboratÃ³rio.  Ã‰ conveniente fazer inicialmente a medida de um capacitor de valor conhecido para certificar-se do mÃ©todo de medida."
   ]
  },
  {
   "cell_type": "code",
   "execution_count": null,
   "id": "36dcc907-e3f4-49a9-92df-4ae2240ead48",
   "metadata": {},
   "outputs": [],
   "source": [
    "# DADOS COLETADOS"
   ]
  },
  {
   "cell_type": "markdown",
   "id": "549c97de-1290-4506-8e3b-3e2d8fd6bdd9",
   "metadata": {},
   "source": [
    "Calcule as constante dielÃ©tricas das folhas medidas. Compare e interprete os resultados obtidos."
   ]
  },
  {
   "cell_type": "code",
   "execution_count": null,
   "id": "dd9aa403-3237-43b5-8a72-a3bc04e680ad",
   "metadata": {
    "tags": []
   },
   "outputs": [],
   "source": [
    "# CÃLCULOS"
   ]
  },
  {
   "cell_type": "markdown",
   "id": "96d8ff0f-372f-42a4-8072-dc2a9323cfc2",
   "metadata": {},
   "source": [
    "`PREENCHER` RESPOSTA"
   ]
  },
  {
   "cell_type": "markdown",
   "id": "9b30a9fc-a1cb-4786-a910-40caeeb0fb2b",
   "metadata": {},
   "source": [
    "Qual Ã© o significado fÃ­sico da constante dielÃ©trica?"
   ]
  },
  {
   "cell_type": "markdown",
   "id": "9919a06e-cfe8-4d6b-9997-bc62fbb6cab2",
   "metadata": {},
   "source": [
    "`PREENCHER` RESPOSTA"
   ]
  },
  {
   "cell_type": "markdown",
   "id": "c24edb0d-b252-4aa3-9274-c494e7b06d3b",
   "metadata": {},
   "source": [
    "## Medidas $V\\times I$ em Materiais DielÃ©tricos"
   ]
  },
  {
   "cell_type": "markdown",
   "id": "29682f3b-4495-4286-b918-5fc6aed79680",
   "metadata": {},
   "source": [
    "### Ambiente Experimental\n",
    "\n",
    "A fonte de alta tensÃ£o serÃ¡ ligada aos eletrodos isolados, entre os quais se colocarÃ¡ a amostra que se vai medir. Um amperÃ­metro convenientemente ligado completarÃ¡ a montagem para fazer as medidas.\n",
    "\n",
    "Tome muito cuidado com a alta tensÃ£o!  Certifique-se de ter feito as ligaÃ§Ãµes corretamente antes de ligar a fonte."
   ]
  },
  {
   "cell_type": "markdown",
   "id": "6493bd6e-ac3b-4062-873e-639b4455ed85",
   "metadata": {
    "tags": []
   },
   "source": [
    "### Roteiro\n",
    "\n",
    "1. Para cada folha de material dielÃ©trico disponÃ­vel no laboratÃ³rio, obtenha a caracterÃ­stica $V\\times I$, atÃ© o ponto de ruptura dielÃ©trica.  Para estas medidas Ã© importante que as faces dos eletrodos estejam paralelas e pressionadas de encontro Ã  amostra.  Anote tambÃ©m a distÃ¢ncia entre os eletrodos em cada caso.\n",
    "\n",
    "1. Para uma amostra de um dielÃ©trico, observar o comportamento da corrente em funÃ§Ã£o do tempo, mantendo a tensÃ£o prÃ³xima Ã  da ruptura.\n",
    "\n",
    "1. Refazer a medida anterior, apÃ³s umedecer ligeiramente a amostra com Ã¡gua."
   ]
  },
  {
   "cell_type": "code",
   "execution_count": null,
   "id": "ba4ae350-65de-49a5-bd7a-c3dfcabfcd75",
   "metadata": {},
   "outputs": [],
   "source": [
    "# DADOS COLETADOS"
   ]
  },
  {
   "cell_type": "markdown",
   "id": "943f15d9-fe2e-47ad-b2cc-e8e7048104cf",
   "metadata": {},
   "source": [
    "### AnÃ¡lise"
   ]
  },
  {
   "cell_type": "markdown",
   "id": "60ee6b0b-531c-4f1d-9f7c-ae4aa7442b2f",
   "metadata": {},
   "source": [
    "Construa grÃ¡ficos $V\\times I$ e compare os diversos resultados."
   ]
  },
  {
   "cell_type": "code",
   "execution_count": null,
   "id": "a2e4b3b6-5bd3-419e-8091-70efeb37d3af",
   "metadata": {
    "tags": []
   },
   "outputs": [],
   "source": [
    "# GRÃFICOS"
   ]
  },
  {
   "cell_type": "markdown",
   "id": "8c64cb62-dd56-4e19-9351-b4227d72606d",
   "metadata": {},
   "source": [
    "Calcule a rigidez dielÃ©trica de cada amostra (valor de campo elÃ©trico que provoca a ruptura do material)."
   ]
  },
  {
   "cell_type": "code",
   "execution_count": null,
   "id": "5cd9a113-5363-4762-9781-49969566b925",
   "metadata": {
    "tags": []
   },
   "outputs": [],
   "source": [
    "# CÃLCULOS"
   ]
  },
  {
   "cell_type": "markdown",
   "id": "268cb6be-61b0-4ee3-978c-2e38737dc45a",
   "metadata": {},
   "source": [
    "`PREENCHER`\n",
    "\n",
    "| Material | Rigidez dielÃ©trica (V/m) |\n",
    "|:---------|:----------------------:|\n",
    "| Fibra Comercial |  |\n",
    "| Prespahn        |  |\n",
    "| Pine com Mylar  |  |\n",
    "| Ar              |  |"
   ]
  },
  {
   "cell_type": "markdown",
   "id": "8b35ad29-151d-4c74-bbb8-792361a473b4",
   "metadata": {},
   "source": [
    "Como se dÃ¡ a conduÃ§Ã£o de corrente nos dielÃ©tricos utilizados?  Relacione com a medida do fator de dissipaÃ§Ã£o medido no item anterior."
   ]
  },
  {
   "cell_type": "markdown",
   "id": "44469094-1f84-4f22-879e-cdec9c0051cf",
   "metadata": {},
   "source": [
    "`PREENCHER` RESPOSTA"
   ]
  },
  {
   "cell_type": "markdown",
   "id": "81f64a93-547a-4c77-990a-903c5c962ad8",
   "metadata": {},
   "source": [
    "Ã‰ possÃ­vel medir diretamente com o multÃ­metro do laboratÃ³rio a tensÃ£o entre os eletrodos?\n",
    "Como se poderia medir a tensÃ£o entre os eletrodos com o multÃ­metro?"
   ]
  },
  {
   "cell_type": "markdown",
   "id": "bc1d1123-29c2-4de0-ae1e-840f7de2b7b6",
   "metadata": {},
   "source": [
    "`PREENCHER` RESPOSTA"
   ]
  },
  {
   "cell_type": "markdown",
   "id": "785e20eb-d3a8-4dfa-8154-ed6eac6658d0",
   "metadata": {},
   "source": [
    "## Medidas de ResistÃªncia ElÃ©trica"
   ]
  },
  {
   "cell_type": "markdown",
   "id": "8785c2f0-683c-4647-8d82-ca71ccd01ae8",
   "metadata": {
    "tags": []
   },
   "source": [
    "### Ambiente Experimental\n",
    "\n",
    "Um autotransformador Variac serÃ¡ ligado Ã  rede de 110Â V (corrente alternada) e sua saÃ­da se conectarÃ¡ a um resistor, ligando-se convenientemente um amperÃ­metro e um voltÃ­metro para realizar as medidas.\n",
    "\n",
    "No caso da lÃ¢mpada incandescente sem bulbo de vidro, verifique se todo o seu filamento estÃ¡ imerso no Ã³leo mineral, sem bolhas de ar aderidas."
   ]
  },
  {
   "cell_type": "code",
   "execution_count": null,
   "id": "f6463eca-ba4c-418b-bb12-c48b6791f811",
   "metadata": {},
   "outputs": [],
   "source": [
    "# DADOS COLETADOS"
   ]
  },
  {
   "cell_type": "markdown",
   "id": "cb91f79d-c18e-4ae7-8513-d72c2e4999f9",
   "metadata": {
    "tags": []
   },
   "source": [
    "### Roteiro\n",
    "\n",
    "Obtenha a caracterÃ­stica $V\\times I$ para o resistor de filme de carbono.\n",
    "\n",
    "Repita as medidas para a lÃ¢mpada incandescente e para a lÃ¢mpada incandescente sem bulbo de vidro, tomando o cuidado de interrompÃª-las quando se inicia a geraÃ§Ã£o de bolhas gasosas na regiÃ£o do filamento.\n",
    "\n",
    "Observe se hÃ¡ histerese em alguma das mediÃ§Ãµes."
   ]
  },
  {
   "cell_type": "markdown",
   "id": "cbaa0490-d442-4370-8e5e-b0a325f71fb3",
   "metadata": {},
   "source": [
    "### AnÃ¡lise"
   ]
  },
  {
   "cell_type": "markdown",
   "id": "68e6ee9c-83b3-4057-815b-60089d38f6e4",
   "metadata": {},
   "source": [
    "FaÃ§a os grÃ¡ficos dos valores medidos e analise os resultados."
   ]
  },
  {
   "cell_type": "code",
   "execution_count": null,
   "id": "fb4d29ed-0fe5-4386-a1db-57a929cbca31",
   "metadata": {
    "tags": []
   },
   "outputs": [],
   "source": [
    "# GRÃFICOS"
   ]
  },
  {
   "cell_type": "markdown",
   "id": "17fb8ca9-68aa-40b9-b09f-21310ead65d7",
   "metadata": {},
   "source": [
    "`PREENCHER` ANÃLISE"
   ]
  },
  {
   "cell_type": "markdown",
   "id": "3d9e9479-fd61-4203-a048-7c27c940cefe",
   "metadata": {},
   "source": [
    "Qual Ã© a funÃ§Ã£o do bulbo de vidro das lÃ¢mpadas.\n",
    "Qual Ã© a funÃ§Ã£o do Ã³leo mineral utilizado?\n",
    "O que poderia substituÃ­-lo em sua funÃ§Ã£o."
   ]
  },
  {
   "cell_type": "markdown",
   "id": "134fdeb4-5856-4aff-bc0d-2ba7076b0f4e",
   "metadata": {},
   "source": [
    "`PREENCHER` RESPOSTA"
   ]
  },
  {
   "cell_type": "markdown",
   "id": "5998f8e9-3adf-4f0e-ad41-c0268dea92ab",
   "metadata": {},
   "source": [
    "A Lei de Ohm se aplica nestes casos?"
   ]
  },
  {
   "cell_type": "markdown",
   "id": "b36d53f0-d71c-421d-ae09-6663fe766a9f",
   "metadata": {},
   "source": [
    "`PREENCHER` RESPOSTA"
   ]
  },
  {
   "cell_type": "markdown",
   "id": "6f38e7f4-16b6-4a47-9636-c5c3e0f765dd",
   "metadata": {},
   "source": [
    "Como se dÃ¡ a conduÃ§Ã£o da corrente num condutor?"
   ]
  },
  {
   "cell_type": "markdown",
   "id": "85c0b39f-c25b-44c9-b0b7-0bf157fed103",
   "metadata": {},
   "source": [
    "`PREENCHER` RESPOSTA"
   ]
  },
  {
   "cell_type": "markdown",
   "id": "b0e63e40-89d6-4c0e-ab5c-b9c5d4eaa004",
   "metadata": {},
   "source": [
    "## Medidas de Resistividade da Ãgua PotÃ¡vel"
   ]
  },
  {
   "cell_type": "markdown",
   "id": "4e7aaca1-d88b-40cd-8511-d12566b80611",
   "metadata": {},
   "source": [
    "### Ambiente Experimental\n",
    "\n",
    "Preencha atÃ© uma altura de 5Â mm uma cuba de vidro com Ã¡gua potÃ¡vel.  SerÃ£o utilizados como eletrodos dois paralelepÃ­pedos de grafite ligados convenientemente a uma fonte, um voltÃ­metro e um amperÃ­metro para medir a resistividade."
   ]
  },
  {
   "cell_type": "markdown",
   "id": "702bcd65-76dc-4c85-8123-f46e4a1fabe7",
   "metadata": {},
   "source": [
    "### Roteiro\n",
    "\n",
    "Utilizando os eletrodos grafite, faÃ§a medidas e calcule as resistividades para pelo menos trÃªs valores diferentes de espaÃ§amento intereletrÃ³dico."
   ]
  },
  {
   "cell_type": "markdown",
   "id": "fa277bff-ee06-46e2-8b67-256fe06910be",
   "metadata": {
    "tags": []
   },
   "source": [
    "### AnÃ¡lise"
   ]
  },
  {
   "cell_type": "markdown",
   "id": "46997c4b-cd86-40ff-b5d2-ec2fd6122008",
   "metadata": {},
   "source": [
    "FaÃ§a grÃ¡ficos com os valores medidos. Compare e interprete os resultados obtidos."
   ]
  },
  {
   "cell_type": "code",
   "execution_count": null,
   "id": "c4ae5f27-a73b-489c-848f-948e8049f305",
   "metadata": {
    "tags": []
   },
   "outputs": [],
   "source": [
    "# GRÃFICOS"
   ]
  },
  {
   "cell_type": "markdown",
   "id": "b6384373-d24e-4001-a83b-6b58b532831f",
   "metadata": {},
   "source": [
    "`PREENCHER` ANÃLISE"
   ]
  },
  {
   "cell_type": "markdown",
   "id": "2e7908b0-ba2f-46ac-8291-91478f9f6c65",
   "metadata": {},
   "source": [
    "Qual Ã© o valor provÃ¡vel da resistividade? Justifique a sua escolha."
   ]
  },
  {
   "cell_type": "markdown",
   "id": "45baeae0-9a07-43ec-a8fe-cfee87173a3f",
   "metadata": {},
   "source": [
    "`PREENCHER` RESPOSTA"
   ]
  },
  {
   "cell_type": "markdown",
   "id": "fec95bc9-3f42-4257-9ea8-6b199ad5ab71",
   "metadata": {},
   "source": [
    "Explique as diferenÃ§as observadas nos valores medidos."
   ]
  },
  {
   "cell_type": "markdown",
   "id": "af639156-d442-43c9-b950-70c8e4c4cb48",
   "metadata": {},
   "source": [
    "`PREENCHER` RESPOSTA"
   ]
  },
  {
   "cell_type": "markdown",
   "id": "fe51f5b9-7ac2-4025-9bdf-b28889af6c07",
   "metadata": {},
   "source": [
    "Quais parÃ¢metros podem modificar a resistividade?"
   ]
  },
  {
   "cell_type": "markdown",
   "id": "289b09e7-0fa0-4948-ba34-cb149909a962",
   "metadata": {},
   "source": [
    "`PREENCHER` RESPOSTA"
   ]
  },
  {
   "cell_type": "markdown",
   "id": "eef9d336-a237-4c8f-9b2d-048c65ab9152",
   "metadata": {},
   "source": [
    "Como se dÃ¡ a conduÃ§Ã£o da corrente em um eletrÃ³lito?"
   ]
  },
  {
   "cell_type": "markdown",
   "id": "44aaf649-d9c3-40a1-b147-1c69a1a25bdb",
   "metadata": {},
   "source": [
    "`PREENCHER` RESPOSTA"
   ]
  },
  {
   "cell_type": "markdown",
   "id": "892bc249-0ed6-4bd0-814c-8c70e6f68362",
   "metadata": {},
   "source": [
    "---\n",
    "*Roteiro original preparado pelos Profs. Furio Damiani e Peter JÃ¼rgen Tatsch*"
   ]
  }
 ],
 "metadata": {
  "kernelspec": {
   "display_name": "Python 3 (ipykernel)",
   "language": "python",
   "name": "python3"
  },
  "language_info": {
   "codemirror_mode": {
    "name": "ipython",
    "version": 3
   },
   "file_extension": ".py",
   "mimetype": "text/x-python",
   "name": "python",
   "nbconvert_exporter": "python",
   "pygments_lexer": "ipython3",
   "version": "3.10.2"
  }
 },
 "nbformat": 4,
 "nbformat_minor": 5
}
